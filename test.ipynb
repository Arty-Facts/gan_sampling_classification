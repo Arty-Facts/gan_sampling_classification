{
 "cells": [
  {
   "cell_type": "code",
   "execution_count": 162,
   "metadata": {},
   "outputs": [
    {
     "name": "stdout",
     "output_type": "stream",
     "text": [
      "The autoreload extension is already loaded. To reload it, use:\n",
      "  %reload_ext autoreload\n"
     ]
    }
   ],
   "source": [
    "import datasets as ds\n",
    "import torchvision.transforms as transforms\n",
    "from medmnist import INFO\n",
    "import medmnist\n",
    "import torch\n",
    "from torch.utils.data import DataLoader\n",
    "\n",
    "%load_ext autoreload\n",
    "%autoreload 2\n",
    "%matplotlib widget"
   ]
  },
  {
   "cell_type": "code",
   "execution_count": 197,
   "metadata": {},
   "outputs": [
    {
     "name": "stdout",
     "output_type": "stream",
     "text": [
      "MNIST torch.Size([32]) tensor(0.) tensor(1.) tensor(0.1273) tensor(0.3038)\n",
      "FashionMNIST torch.Size([32]) tensor(0.) tensor(1.) tensor(0.2998) tensor(0.3535)\n",
      "SVHN torch.Size([32]) tensor(0.) tensor(1.) tensor(0.4294) tensor(0.1935)\n",
      "CIFAR10 torch.Size([32]) tensor(0.) tensor(1.) tensor(0.4997) tensor(0.2469)\n",
      "CIFAR100 torch.Size([32]) tensor(0.) tensor(1.) tensor(0.4740) tensor(0.2678)\n",
      "PathMNIST torch.Size([32]) tensor(0.0314) tensor(1.) tensor(0.6696) tensor(0.1804)\n",
      "DermaMNIST torch.Size([32]) tensor(0.0118) tensor(1.) tensor(0.6450) tensor(0.1654)\n",
      "BloodMNIST torch.Size([32]) tensor(0.0196) tensor(1.) tensor(0.7174) tensor(0.2116)\n",
      "BreastMNIST torch.Size([32]) tensor(0.0039) tensor(0.9686) tensor(0.3292) tensor(0.2070)\n",
      "RetinaMNIST torch.Size([32]) tensor(0.) tensor(1.) tensor(0.2769) tensor(0.2595)\n",
      "OrganCMNIST torch.Size([32]) tensor(0.) tensor(1.) tensor(0.5011) tensor(0.3117)\n"
     ]
    }
   ],
   "source": [
    "for dataset in ds.ALL_DATASETS:\n",
    "    data = ds.get_dataset(dataset, \"data\",reduce_level=1)\n",
    "    # imgs = torch.stack([img for img, _ in data[\"train\"]])\n",
    "    # labels = data[\"train\"].lables\n",
    "    # print(dataset, data[\"train\"].get_random_index_for_label(1))#, imgs.min(), imgs.max(), imgs.mean(), imgs.std(), imgs.shape, labels.shape)\n",
    "    dataloader = DataLoader(dataset=data[\"train\"], batch_sampler=ds.InfiniteClassSampler(data[\"train\"], batch_size=32, balanced=True))\n",
    "    samples = 0\n",
    "    for step, (images, labels) in enumerate(dataloader):\n",
    "        # Training step...\n",
    "        print(dataset, labels.shape, images.min(), images.max(), images.mean(), images.std())\n",
    "        # labels = labels.argmax(dim=1)\n",
    "        \n",
    "        # balence = [\n",
    "        #     len(torch.where(labels == i)[0]) for i in range(data[\"train\"].label_shape)\n",
    "        # ]\n",
    "        # samples += images.shape[0]\n",
    "        # print(samples, dataset, balence, labels.shape)\n",
    "        # if step == 3:\n",
    "        break"
   ]
  },
  {
   "cell_type": "code",
   "execution_count": 214,
   "metadata": {},
   "outputs": [
    {
     "name": "stdout",
     "output_type": "stream",
     "text": [
      "torch.Size([4, 1, 224, 224])\n"
     ]
    }
   ],
   "source": [
    "import torchvision.transforms.v2 as transforms\n",
    "data_transform = transforms.Compose([\n",
    "        transforms.RandomHorizontalFlip(),\n",
    "        transforms.RandomVerticalFlip(),\n",
    "        transforms.RandomAutocontrast(),\n",
    "        transforms.Normalize(mean=[.5], std=[.5]),\n",
    "    ])\n",
    "img = torch.rand((4, 1, 224, 224))\n",
    "\n",
    "print(data_transform(img).shape)\n"
   ]
  }
 ],
 "metadata": {
  "kernelspec": {
   "display_name": "venv",
   "language": "python",
   "name": "python3"
  },
  "language_info": {
   "codemirror_mode": {
    "name": "ipython",
    "version": 3
   },
   "file_extension": ".py",
   "mimetype": "text/x-python",
   "name": "python",
   "nbconvert_exporter": "python",
   "pygments_lexer": "ipython3",
   "version": "3.12.3"
  }
 },
 "nbformat": 4,
 "nbformat_minor": 2
}
