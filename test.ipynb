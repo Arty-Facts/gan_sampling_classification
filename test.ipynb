{
 "cells": [
  {
   "cell_type": "code",
   "execution_count": 59,
   "metadata": {},
   "outputs": [
    {
     "name": "stdout",
     "output_type": "stream",
     "text": [
      "The autoreload extension is already loaded. To reload it, use:\n",
      "  %reload_ext autoreload\n"
     ]
    }
   ],
   "source": [
    "import datasets as ds\n",
    "import torchvision.transforms as transforms\n",
    "from medmnist import INFO\n",
    "import medmnist\n",
    "import torch\n",
    "\n",
    "%load_ext autoreload\n",
    "%autoreload 2\n",
    "%matplotlib widget"
   ]
  },
  {
   "cell_type": "code",
   "execution_count": 116,
   "metadata": {},
   "outputs": [
    {
     "name": "stdout",
     "output_type": "stream",
     "text": [
      "MNIST tensor(-1.) tensor(1.) tensor(-0.7387) tensor(0.6162) torch.Size([60000, 1, 28, 28])\n",
      "FashionMNIST tensor(-1.) tensor(1.) tensor(-0.4279) tensor(0.7060) torch.Size([60000, 1, 28, 28])\n",
      "SVHN tensor(-1.) tensor(1.) tensor(-0.0972) tensor(0.3986) torch.Size([73257, 3, 32, 32])\n",
      "CIFAR10 tensor(-1.) tensor(1.) tensor(-0.0533) tensor(0.5031) torch.Size([50000, 3, 32, 32])\n",
      "CIFAR100 tensor(-1.) tensor(1.) tensor(-0.0436) tensor(0.5364) torch.Size([50000, 3, 32, 32])\n"
     ]
    },
    {
     "name": "stderr",
     "output_type": "stream",
     "text": [
      "100%|██████████| 206M/206M [04:55<00:00, 697kB/s]  \n"
     ]
    },
    {
     "name": "stdout",
     "output_type": "stream",
     "text": [
      "PathMNIST tensor(-1.) tensor(1.) tensor(0.3196) tensor(0.3401) torch.Size([89996, 3, 28, 28])\n"
     ]
    },
    {
     "name": "stderr",
     "output_type": "stream",
     "text": [
      "100%|██████████| 82.8M/82.8M [01:59<00:00, 693kB/s] \n"
     ]
    },
    {
     "name": "stdout",
     "output_type": "stream",
     "text": [
      "ChestMNIST tensor(-1.) tensor(0.9843) tensor(-0.0128) tensor(0.4760) torch.Size([78468, 1, 28, 28])\n"
     ]
    },
    {
     "name": "stderr",
     "output_type": "stream",
     "text": [
      "100%|██████████| 19.7M/19.7M [00:32<00:00, 599kB/s] \n"
     ]
    },
    {
     "name": "stdout",
     "output_type": "stream",
     "text": [
      "DermaMNIST tensor(-1.) tensor(1.) tensor(0.2417) tensor(0.3683) torch.Size([7007, 3, 28, 28])\n"
     ]
    },
    {
     "name": "stderr",
     "output_type": "stream",
     "text": [
      "100%|██████████| 54.9M/54.9M [01:26<00:00, 639kB/s] \n"
     ]
    },
    {
     "name": "stdout",
     "output_type": "stream",
     "text": [
      "OCTMNIST tensor(-1.) tensor(1.) tensor(-0.6221) tensor(0.3926) torch.Size([97477, 1, 28, 28])\n",
      "BloodMNIST tensor(-1.) tensor(1.) tensor(0.4335) tensor(0.4139) torch.Size([11959, 3, 28, 28])\n",
      "BreastMNIST tensor(-1.) tensor(1.) tensor(-0.3448) tensor(0.4115) torch.Size([546, 1, 28, 28])\n",
      "PneumoniaMNIST tensor(-1.) tensor(1.) tensor(0.1438) tensor(0.3367) torch.Size([4708, 1, 28, 28])\n",
      "RetinaMNIST tensor(-1.) tensor(1.) tensor(-0.4674) tensor(0.4926) torch.Size([1080, 3, 28, 28])\n",
      "TissueMNIST tensor(-1.) tensor(1.) tensor(-0.7959) tensor(0.2001) torch.Size([165466, 1, 28, 28])\n"
     ]
    },
    {
     "name": "stderr",
     "output_type": "stream",
     "text": [
      "100%|██████████| 38.2M/38.2M [01:04<00:00, 598kB/s] \n"
     ]
    },
    {
     "name": "stdout",
     "output_type": "stream",
     "text": [
      "OrganAMNIST tensor(-1.) tensor(1.) tensor(-0.0639) tensor(0.5948) torch.Size([34561, 1, 28, 28])\n"
     ]
    },
    {
     "name": "stderr",
     "output_type": "stream",
     "text": [
      "100%|██████████| 15.5M/15.5M [00:20<00:00, 749kB/s] \n"
     ]
    },
    {
     "name": "stdout",
     "output_type": "stream",
     "text": [
      "OrganCMNIST tensor(-1.) tensor(1.) tensor(-0.0117) tensor(0.5668) torch.Size([12975, 1, 28, 28])\n"
     ]
    },
    {
     "name": "stderr",
     "output_type": "stream",
     "text": [
      "100%|██████████| 16.5M/16.5M [00:27<00:00, 596kB/s] \n"
     ]
    },
    {
     "name": "stdout",
     "output_type": "stream",
     "text": [
      "OrganSMNIST tensor(-1.) tensor(1.) tensor(-0.0094) tensor(0.5653) torch.Size([13932, 1, 28, 28])\n"
     ]
    }
   ],
   "source": [
    "for dataset in ds.ALL_DATASETS:\n",
    "    data = ds.get_dataset(dataset, \"data\")\n",
    "    imgs = torch.stack([img for img, _ in data[\"train\"]])\n",
    "    print(dataset, imgs.min(), imgs.max(), imgs.mean(), imgs.std(), imgs.shape)"
   ]
  },
  {
   "cell_type": "code",
   "execution_count": 79,
   "metadata": {},
   "outputs": [
    {
     "data": {
      "text/plain": [
       "dict_keys(['pathmnist', 'chestmnist', 'dermamnist', 'octmnist', 'pneumoniamnist', 'retinamnist', 'breastmnist', 'bloodmnist', 'tissuemnist', 'organamnist', 'organcmnist', 'organsmnist', 'organmnist3d', 'nodulemnist3d', 'adrenalmnist3d', 'fracturemnist3d', 'vesselmnist3d', 'synapsemnist3d'])"
      ]
     },
     "execution_count": 79,
     "metadata": {},
     "output_type": "execute_result"
    }
   ],
   "source": [
    "INFO.keys()"
   ]
  },
  {
   "cell_type": "code",
   "execution_count": 102,
   "metadata": {},
   "outputs": [
    {
     "name": "stderr",
     "output_type": "stream",
     "text": [
      "100%|██████████| 4.17M/4.17M [00:04<00:00, 976kB/s] \n"
     ]
    }
   ],
   "source": [
    "\n",
    "\n",
    "data_flag = 'pneumoniamnist'\n",
    "device = \"cuda\"\n",
    "download = True\n",
    "\n",
    "info = INFO[data_flag]    \n",
    "\n",
    "DataClass = getattr(medmnist, info['python_class'])\n",
    "\n",
    "# preprocessing\n",
    "data_transform = transforms.Compose([\n",
    "    transforms.RandomEqualize(),\n",
    "    transforms.ToTensor(),\n",
    "    transforms.RandomHorizontalFlip(),\n",
    "    transforms.RandomVerticalFlip(),\n",
    "    transforms.RandomAutocontrast(),\n",
    "    transforms.Normalize(mean=[.5], std=[.5]),\n",
    "])\n",
    "val_data_transform = transforms.Compose([\n",
    "    transforms.ToTensor(),\n",
    "    transforms.Normalize(mean=[.5], std=[.5])\n",
    "])\n",
    "\n",
    "# load the data\n",
    "train_dataset = DataClass(split='train',download=download, size=28)\n",
    "valid_dataset = DataClass(split='test',download=download, size=28)"
   ]
  },
  {
   "cell_type": "code",
   "execution_count": 103,
   "metadata": {},
   "outputs": [
    {
     "data": {
      "text/plain": [
       "{'python_class': 'PneumoniaMNIST',\n",
       " 'description': 'The PneumoniaMNIST is based on a prior dataset of 5,856 pediatric chest X-Ray images. The task is binary-class classification of pneumonia against normal. We split the source training set with a ratio of 9:1 into training and validation set and use its source validation set as the test set. The source images are gray-scale, and their sizes are (384−2,916)×(127−2,713). We center-crop the images and resize them into 1×28×28.',\n",
       " 'url': 'https://zenodo.org/records/10519652/files/pneumoniamnist.npz?download=1',\n",
       " 'MD5': '28209eda62fecd6e6a2d98b1501bb15f',\n",
       " 'url_64': 'https://zenodo.org/records/10519652/files/pneumoniamnist_64.npz?download=1',\n",
       " 'MD5_64': '8f4eceb4ccffa70c672198ea285246c6',\n",
       " 'url_128': 'https://zenodo.org/records/10519652/files/pneumoniamnist_128.npz?download=1',\n",
       " 'MD5_128': '05b46931834c231683c68f40c47b2971',\n",
       " 'url_224': 'https://zenodo.org/records/10519652/files/pneumoniamnist_224.npz?download=1',\n",
       " 'MD5_224': 'd6a3c71de1b945ea11211b03746c1fe1',\n",
       " 'task': 'binary-class',\n",
       " 'label': {'0': 'normal', '1': 'pneumonia'},\n",
       " 'n_channels': 1,\n",
       " 'n_samples': {'train': 4708, 'val': 524, 'test': 624},\n",
       " 'license': 'CC BY 4.0'}"
      ]
     },
     "execution_count": 103,
     "metadata": {},
     "output_type": "execute_result"
    }
   ],
   "source": [
    "info"
   ]
  }
 ],
 "metadata": {
  "kernelspec": {
   "display_name": "venv",
   "language": "python",
   "name": "python3"
  },
  "language_info": {
   "codemirror_mode": {
    "name": "ipython",
    "version": 3
   },
   "file_extension": ".py",
   "mimetype": "text/x-python",
   "name": "python",
   "nbconvert_exporter": "python",
   "pygments_lexer": "ipython3",
   "version": "3.12.3"
  }
 },
 "nbformat": 4,
 "nbformat_minor": 2
}
