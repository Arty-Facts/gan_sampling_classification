{
 "cells": [
  {
   "cell_type": "code",
   "execution_count": 162,
   "metadata": {},
   "outputs": [
    {
     "name": "stdout",
     "output_type": "stream",
     "text": [
      "The autoreload extension is already loaded. To reload it, use:\n",
      "  %reload_ext autoreload\n"
     ]
    }
   ],
   "source": [
    "import datasets as ds\n",
    "import torchvision.transforms as transforms\n",
    "from medmnist import INFO\n",
    "import medmnist\n",
    "import torch\n",
    "from torch.utils.data import DataLoader\n",
    "\n",
    "%load_ext autoreload\n",
    "%autoreload 2\n",
    "%matplotlib widget"
   ]
  },
  {
   "cell_type": "code",
   "execution_count": 177,
   "metadata": {},
   "outputs": [
    {
     "name": "stdout",
     "output_type": "stream",
     "text": [
      "32 MNIST [3, 4, 3, 3, 3, 3, 3, 4, 3, 3] torch.Size([32])\n",
      "64 MNIST [4, 3, 3, 3, 3, 3, 3, 3, 3, 4] torch.Size([32])\n",
      "96 MNIST [4, 3, 3, 3, 3, 4, 3, 3, 3, 3] torch.Size([32])\n",
      "128 MNIST [3, 3, 3, 3, 4, 3, 3, 3, 4, 3] torch.Size([32])\n",
      "32 FashionMNIST [3, 3, 3, 3, 4, 3, 3, 3, 4, 3] torch.Size([32])\n",
      "64 FashionMNIST [4, 3, 3, 3, 3, 3, 3, 4, 3, 3] torch.Size([32])\n",
      "96 FashionMNIST [3, 3, 3, 5, 3, 3, 3, 3, 3, 3] torch.Size([32])\n",
      "128 FashionMNIST [3, 3, 3, 4, 3, 3, 3, 3, 4, 3] torch.Size([32])\n",
      "32 SVHN [3, 3, 3, 3, 3, 3, 5, 3, 3, 3] torch.Size([32])\n",
      "64 SVHN [3, 3, 3, 3, 3, 3, 3, 4, 3, 4] torch.Size([32])\n",
      "96 SVHN [3, 3, 3, 3, 3, 3, 4, 3, 3, 4] torch.Size([32])\n",
      "128 SVHN [3, 4, 3, 3, 3, 3, 3, 3, 4, 3] torch.Size([32])\n",
      "32 CIFAR10 [3, 3, 3, 3, 3, 4, 3, 4, 3, 3] torch.Size([32])\n",
      "64 CIFAR10 [3, 3, 4, 3, 3, 3, 3, 3, 4, 3] torch.Size([32])\n",
      "96 CIFAR10 [3, 3, 3, 3, 3, 3, 3, 5, 3, 3] torch.Size([32])\n",
      "128 CIFAR10 [3, 3, 3, 3, 4, 3, 3, 3, 4, 3] torch.Size([32])\n",
      "32 CIFAR100 [1, 1, 0, 0, 0, 0, 1, 0, 1, 0, 0, 1, 0, 0, 0, 0, 0, 1, 1, 0, 0, 1, 1, 0, 1, 0, 0, 0, 0, 0, 0, 1, 1, 1, 0, 0, 0, 0, 0, 1, 0, 0, 1, 1, 1, 0, 0, 0, 1, 1, 0, 1, 1, 0, 0, 0, 0, 1, 0, 0, 0, 0, 0, 0, 0, 0, 0, 0, 0, 0, 0, 1, 0, 0, 1, 0, 0, 1, 1, 1, 0, 1, 1, 0, 0, 0, 0, 0, 0, 1, 0, 0, 1, 0, 1, 0, 0, 0, 0, 0] torch.Size([32])\n",
      "64 CIFAR100 [0, 1, 0, 0, 1, 1, 0, 0, 0, 1, 1, 1, 0, 0, 1, 0, 0, 0, 0, 0, 1, 0, 0, 1, 1, 0, 0, 1, 0, 1, 0, 0, 0, 1, 0, 0, 1, 1, 0, 0, 0, 0, 0, 0, 0, 0, 0, 0, 0, 1, 1, 1, 1, 0, 1, 0, 1, 0, 0, 1, 0, 0, 1, 0, 0, 1, 0, 1, 0, 0, 1, 1, 0, 0, 1, 0, 0, 0, 0, 0, 0, 0, 0, 0, 0, 0, 1, 0, 0, 0, 0, 0, 1, 1, 1, 0, 0, 0, 0, 0] torch.Size([32])\n",
      "96 CIFAR100 [1, 0, 1, 0, 0, 0, 0, 0, 0, 0, 0, 0, 0, 1, 0, 0, 1, 0, 1, 0, 0, 0, 0, 1, 0, 1, 1, 0, 1, 0, 0, 0, 0, 1, 0, 1, 0, 0, 1, 0, 0, 0, 0, 1, 1, 0, 0, 1, 0, 1, 1, 0, 1, 0, 0, 0, 1, 0, 0, 1, 0, 0, 1, 1, 0, 0, 1, 0, 0, 0, 1, 0, 0, 1, 0, 0, 0, 0, 0, 1, 0, 0, 0, 0, 0, 1, 1, 1, 0, 0, 0, 0, 0, 0, 1, 1, 0, 1, 0, 0] torch.Size([32])\n",
      "128 CIFAR100 [1, 1, 1, 0, 1, 0, 1, 1, 0, 0, 0, 1, 0, 0, 0, 1, 1, 0, 0, 1, 0, 0, 1, 0, 1, 0, 0, 1, 1, 0, 0, 0, 0, 1, 1, 0, 0, 0, 1, 1, 1, 0, 0, 0, 1, 0, 1, 0, 0, 1, 0, 0, 0, 0, 0, 0, 0, 0, 0, 1, 1, 1, 0, 0, 0, 0, 0, 0, 0, 0, 0, 0, 1, 0, 0, 0, 1, 0, 0, 0, 1, 0, 0, 0, 0, 1, 0, 0, 0, 1, 0, 0, 0, 0, 1, 0, 0, 0, 0, 1] torch.Size([32])\n",
      "32 PathMNIST [5, 3, 4, 3, 3, 3, 3, 3, 5] torch.Size([32])\n",
      "64 PathMNIST [3, 5, 4, 3, 4, 4, 3, 3, 3] torch.Size([32])\n",
      "96 PathMNIST [3, 3, 4, 4, 4, 3, 4, 4, 3] torch.Size([32])\n",
      "128 PathMNIST [3, 3, 4, 3, 5, 3, 3, 3, 5] torch.Size([32])\n",
      "32 DermaMNIST [6, 5, 4, 4, 4, 5, 4] torch.Size([32])\n",
      "64 DermaMNIST [6, 4, 4, 4, 5, 4, 5] torch.Size([32])\n",
      "96 DermaMNIST [5, 6, 4, 4, 5, 4, 4] torch.Size([32])\n",
      "128 DermaMNIST [5, 5, 4, 4, 5, 5, 4] torch.Size([32])\n",
      "32 BloodMNIST [4, 4, 4, 4, 4, 4, 4, 4] torch.Size([32])\n",
      "64 BloodMNIST [4, 4, 4, 4, 4, 4, 4, 4] torch.Size([32])\n",
      "96 BloodMNIST [4, 4, 4, 4, 4, 4, 4, 4] torch.Size([32])\n",
      "128 BloodMNIST [4, 4, 4, 4, 4, 4, 4, 4] torch.Size([32])\n",
      "32 BreastMNIST [16, 16] torch.Size([32])\n",
      "64 BreastMNIST [16, 16] torch.Size([32])\n",
      "96 BreastMNIST [16, 16] torch.Size([32])\n",
      "128 BreastMNIST [16, 16] torch.Size([32])\n",
      "32 RetinaMNIST [7, 6, 6, 6, 7] torch.Size([32])\n",
      "64 RetinaMNIST [8, 6, 6, 6, 6] torch.Size([32])\n",
      "96 RetinaMNIST [6, 8, 6, 6, 6] torch.Size([32])\n",
      "128 RetinaMNIST [6, 7, 6, 7, 6] torch.Size([32])\n",
      "32 OrganCMNIST [2, 3, 2, 2, 4, 2, 3, 3, 5, 4, 2] torch.Size([32])\n",
      "64 OrganCMNIST [3, 3, 3, 2, 3, 3, 2, 2, 3, 4, 4] torch.Size([32])\n",
      "96 OrganCMNIST [3, 3, 3, 3, 3, 3, 4, 3, 2, 2, 3] torch.Size([32])\n",
      "128 OrganCMNIST [2, 2, 3, 2, 3, 2, 3, 5, 3, 2, 5] torch.Size([32])\n"
     ]
    }
   ],
   "source": [
    "for dataset in ds.ALL_DATASETS:\n",
    "    data = ds.get_dataset(dataset, \"data\",reduce_level=1)\n",
    "    # imgs = torch.stack([img for img, _ in data[\"train\"]])\n",
    "    # labels = data[\"train\"].lables\n",
    "    # print(dataset, data[\"train\"].get_random_index_for_label(1))#, imgs.min(), imgs.max(), imgs.mean(), imgs.std(), imgs.shape, labels.shape)\n",
    "    dataloader = DataLoader(dataset=data[\"train\"], batch_sampler=ds.InfiniteClassSampler(data[\"train\"], batch_size=32, balanced=True))\n",
    "    samples = 0\n",
    "    for step, (images, labels) in enumerate(dataloader):\n",
    "        # Training step...\n",
    "        labels = labels.argmax(dim=1)\n",
    "        \n",
    "        balence = [\n",
    "            len(torch.where(labels == i)[0]) for i in range(data[\"train\"].label_shape)\n",
    "        ]\n",
    "        samples += images.shape[0]\n",
    "        print(samples, dataset, balence, labels.shape)\n",
    "        if step == 3:\n",
    "            break"
   ]
  },
  {
   "cell_type": "code",
   "execution_count": null,
   "metadata": {},
   "outputs": [],
   "source": []
  }
 ],
 "metadata": {
  "kernelspec": {
   "display_name": "venv",
   "language": "python",
   "name": "python3"
  },
  "language_info": {
   "codemirror_mode": {
    "name": "ipython",
    "version": 3
   },
   "file_extension": ".py",
   "mimetype": "text/x-python",
   "name": "python",
   "nbconvert_exporter": "python",
   "pygments_lexer": "ipython3",
   "version": "3.12.3"
  }
 },
 "nbformat": 4,
 "nbformat_minor": 2
}
