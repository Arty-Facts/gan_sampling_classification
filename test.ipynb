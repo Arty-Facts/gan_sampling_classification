{
 "cells": [
  {
   "cell_type": "code",
   "execution_count": 59,
   "metadata": {},
   "outputs": [
    {
     "name": "stdout",
     "output_type": "stream",
     "text": [
      "The autoreload extension is already loaded. To reload it, use:\n",
      "  %reload_ext autoreload\n"
     ]
    }
   ],
   "source": [
    "import datasets as ds\n",
    "import torchvision.transforms as transforms\n",
    "from medmnist import INFO\n",
    "import medmnist\n",
    "import torch\n",
    "\n",
    "%load_ext autoreload\n",
    "%autoreload 2\n",
    "%matplotlib widget"
   ]
  },
  {
   "cell_type": "code",
   "execution_count": 135,
   "metadata": {},
   "outputs": [
    {
     "name": "stdout",
     "output_type": "stream",
     "text": [
      "MNIST_train - 1:6742, 7:6265, 3:6131, 2:5958, 9:5949, 0:5923, 6:5918, 8:5851, 4:5842, 5:5421\n",
      "FashionMNIST_train - 0:6000, 1:6000, 2:6000, 3:6000, 4:6000, 5:6000, 6:6000, 7:6000, 8:6000, 9:6000\n",
      "SVHN_train - 1:13861, 2:10585, 3:8497, 4:7458, 5:6882, 6:5727, 7:5595, 8:5045, 0:4948, 9:4659\n",
      "CIFAR10_train - 0:5000, 1:5000, 2:5000, 3:5000, 4:5000, 5:5000, 6:5000, 7:5000, 8:5000, 9:5000\n",
      "CIFAR100_train - 0:500, 1:500, 2:500, 3:500, 4:500, 5:500, 6:500, 7:500, 8:500, 9:500, 10:500, 11:500, 12:500, 13:500, 14:500, 15:500, 16:500, 17:500, 18:500, 19:500, 20:500, 21:500, 22:500, 23:500, 24:500, 25:500, 26:500, 27:500, 28:500, 29:500, 30:500, 31:500, 32:500, 33:500, 34:500, 35:500, 36:500, 37:500, 38:500, 39:500, 40:500, 41:500, 42:500, 43:500, 44:500, 45:500, 46:500, 47:500, 48:500, 49:500, 50:500, 51:500, 52:500, 53:500, 54:500, 55:500, 56:500, 57:500, 58:500, 59:500, 60:500, 61:500, 62:500, 63:500, 64:500, 65:500, 66:500, 67:500, 68:500, 69:500, 70:500, 71:500, 72:500, 73:500, 74:500, 75:500, 76:500, 77:500, 78:500, 79:500, 80:500, 81:500, 82:500, 83:500, 84:500, 85:500, 86:500, 87:500, 88:500, 89:500, 90:500, 91:500, 92:500, 93:500, 94:500, 95:500, 96:500, 97:500, 98:500, 99:500\n",
      "PathMNIST_train - 8:12885, 5:12182, 3:10401, 2:10360, 1:9509, 7:9401, 0:9366, 4:8006, 6:7886\n",
      "DermaMNIST_train - 5:4693, 4:779, 2:769, 1:359, 0:228, 6:99, 3:80\n",
      "OCTMNIST_train - 3:46026, 0:33484, 1:10213, 2:7754\n",
      "BloodMNIST_train - 6:2330, 1:2181, 3:2026, 7:1643, 2:1085, 5:993, 0:852, 4:849\n",
      "BreastMNIST_train - 1:399, 0:147\n",
      "PneumoniaMNIST_train - 1:3494, 0:1214\n",
      "RetinaMNIST_train - 0:486, 2:206, 3:194, 1:128, 4:66\n",
      "TissueMNIST_train - 0:53075, 6:39203, 7:24608, 3:15406, 4:11789, 1:7814, 5:7705, 2:5866\n",
      "OrganAMNIST_train - 6:6164, 4:3963, 8:3929, 7:3919, 5:3817, 10:3561, 9:3031, 0:1956, 3:1474, 1:1390, 2:1357\n",
      "OrganCMNIST_train - 6:2986, 10:1572, 9:1173, 5:1170, 0:1148, 4:1088, 8:1022, 7:1002, 1:619, 3:600, 2:595\n",
      "OrganSMNIST_train - 6:3464, 9:2004, 10:1556, 0:1148, 4:1132, 5:1119, 8:803, 7:741, 3:721, 1:630, 2:614\n"
     ]
    }
   ],
   "source": [
    "for dataset in ds.ALL_DATASETS:\n",
    "    data = ds.get_dataset(dataset, \"data\")\n",
    "    # imgs = torch.stack([img for img, _ in data[\"train\"]])\n",
    "    # labels = data[\"train\"].lables\n",
    "    print(data[\"train\"])#, imgs.min(), imgs.max(), imgs.mean(), imgs.std(), imgs.shape, labels.shape)"
   ]
  },
  {
   "cell_type": "code",
   "execution_count": 117,
   "metadata": {},
   "outputs": [
    {
     "data": {
      "text/plain": [
       "dict_keys(['pathmnist', 'chestmnist', 'dermamnist', 'octmnist', 'pneumoniamnist', 'retinamnist', 'breastmnist', 'bloodmnist', 'tissuemnist', 'organamnist', 'organcmnist', 'organsmnist', 'organmnist3d', 'nodulemnist3d', 'adrenalmnist3d', 'fracturemnist3d', 'vesselmnist3d', 'synapsemnist3d'])"
      ]
     },
     "execution_count": 117,
     "metadata": {},
     "output_type": "execute_result"
    }
   ],
   "source": [
    "INFO.keys()"
   ]
  },
  {
   "cell_type": "code",
   "execution_count": 118,
   "metadata": {},
   "outputs": [],
   "source": [
    "\n",
    "\n",
    "data_flag = 'pneumoniamnist'\n",
    "device = \"cuda\"\n",
    "download = True\n",
    "\n",
    "info = INFO[data_flag]    \n",
    "\n",
    "DataClass = getattr(medmnist, info['python_class'])\n",
    "\n",
    "# preprocessing\n",
    "data_transform = transforms.Compose([\n",
    "    transforms.RandomEqualize(),\n",
    "    transforms.ToTensor(),\n",
    "    transforms.RandomHorizontalFlip(),\n",
    "    transforms.RandomVerticalFlip(),\n",
    "    transforms.RandomAutocontrast(),\n",
    "    transforms.Normalize(mean=[.5], std=[.5]),\n",
    "])\n",
    "val_data_transform = transforms.Compose([\n",
    "    transforms.ToTensor(),\n",
    "    transforms.Normalize(mean=[.5], std=[.5])\n",
    "])\n",
    "\n",
    "# load the data\n",
    "train_dataset = DataClass(split='train',download=download, size=28)\n",
    "valid_dataset = DataClass(split='test',download=download, size=28)"
   ]
  },
  {
   "cell_type": "code",
   "execution_count": 119,
   "metadata": {},
   "outputs": [
    {
     "data": {
      "text/plain": [
       "array([[1],\n",
       "       [1],\n",
       "       [1],\n",
       "       ...,\n",
       "       [1],\n",
       "       [0],\n",
       "       [1]], dtype=uint8)"
      ]
     },
     "execution_count": 119,
     "metadata": {},
     "output_type": "execute_result"
    }
   ],
   "source": [
    "train_dataset.labels"
   ]
  }
 ],
 "metadata": {
  "kernelspec": {
   "display_name": "venv",
   "language": "python",
   "name": "python3"
  },
  "language_info": {
   "codemirror_mode": {
    "name": "ipython",
    "version": 3
   },
   "file_extension": ".py",
   "mimetype": "text/x-python",
   "name": "python",
   "nbconvert_exporter": "python",
   "pygments_lexer": "ipython3",
   "version": "3.12.3"
  }
 },
 "nbformat": 4,
 "nbformat_minor": 2
}
